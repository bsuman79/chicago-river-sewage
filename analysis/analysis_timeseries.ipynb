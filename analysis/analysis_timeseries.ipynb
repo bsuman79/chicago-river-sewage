{
 "metadata": {
  "name": ""
 },
 "nbformat": 3,
 "nbformat_minor": 0,
 "worksheets": [
  {
   "cells": [
    {
     "cell_type": "code",
     "collapsed": false,
     "input": [
      "import pandas as pd\n",
      "import numpy as np\n",
      "import matplotlib.pyplot as plt\n",
      "import os\n",
      "import datetime\n",
      "from sklearn import preprocessing, svm, metrics, cross_validation, linear_model\n",
      "from sklearn.ensemble import RandomForestClassifier, ExtraTreesClassifier\n",
      "from sklearn.pipeline import Pipeline\n",
      "import orange\n",
      "from collections import defaultdict, OrderedDict\n",
      "from dateutil.relativedelta import relativedelta\n",
      "\n",
      "def date_to_days(dates):\n",
      "  list_of_days=[]\n",
      "  for date in dates:\n",
      "     d0 = datetime.date(date.year, date.month, date.day)\n",
      "     d1 = datetime.date(date.year, 01, 01)\n",
      "     delta = d0 - d1\n",
      "     list_of_days.append(np.floor(delta.days/30.0))\n",
      "  return list_of_days\n",
      "\n",
      "def add_months(sourcedate, months):\n",
      "    month = sourcedate.month - 1 + months\n",
      "    year = sourcedate.year + month / 12\n",
      "    month = month % 12 + 1\n",
      "    day = min(sourcedate.day, calendar.monthrange(year, month)[1])\n",
      "    return datetime.date(year, month, day)\n",
      "\n",
      "\n",
      "def read_data(directory='../data/', file='clean-waterway-measurements.csv', file1='cso_events_timestamped.csv',\n",
      "              file2='mwrd_rain_measurements.csv', datetosplit=''):\n",
      "\n",
      "    format = '%Y-%m-%d'\n",
      "    next_month = datetime.datetime.strptime(datetosplit, format) + datetime.timedelta(weeks=6)\n",
      "\n",
      "    data = pd.read_csv(directory + file)\n",
      "\n",
      "\n",
      "    data.replace(to_replace=['<', '\\*', '\\'', '_____', '3..1', 'n/a', 't/x'],\n",
      "                 value=['', '', '', np.nan, np.nan, np.nan, np.nan], inplace=True, regex=True)\n",
      "    data.replace(to_replace=['na'], value=[np.nan], inplace=True)\n",
      "    data['fec_col_cat'] = data['fec_col(cts/100ml)']\n",
      "    data['fec_col_cat'][np.array(data['fec_col(cts/100ml)'], dtype=float) < 200] = 1\n",
      "    data['fec_col_cat'][np.array(data['fec_col(cts/100ml)'], dtype=float) >= 400] = 0\n",
      "    data['fec_col_cat'][(np.array(data['fec_col(cts/100ml)'], dtype=float) < 400) & (\n",
      "        np.array(data['fec_col(cts/100ml)'], dtype=float) >= 200)] = 1\n",
      "\n",
      "    data= data[data['collect(date)']==data['collect(date)']]\n",
      "    dates = pd.DatetimeIndex(list(data['collect(date)']))\n",
      "    data['months'] = date_to_days(dates)\n",
      "    \n",
      "    header=data.columns.values.tolist()\n",
      "    #for (indx,head) in enumerate(header):\n",
      "    #    print indx,head\n",
      "    #exit()\n",
      "    \n",
      "\n",
      "    # create train data, take data till datetosplit\n",
      "\n",
      "    data_split = data[data['collect(date)'] < datetosplit]\n",
      "    # create test data, take data start from datetosplit\n",
      "    data_split_test = data[(data['collect(date)'] >= datetosplit) & (data['collect(date)'] < str(next_month))]\n",
      "    #print data.ix[:,30:40][(data['collect(date)']>='2012-07-30') & (data['collect(date)']<'2012-07-31')].fillna(0.0)\n",
      "    return data_split, data_split_test\n",
      "\n",
      "\n",
      "def prepare_data(data):\n",
      "    data_grouped = data.groupby(['north_latitude', 'west_longitude'])\n",
      "\n",
      "    group = {}\n",
      "    ct = 1\n",
      "    data_full, response_full = [], []\n",
      "    for key, val in data_grouped:\n",
      "          val = val.fillna(np.nan)\n",
      "          group[key] = val\n",
      "          data2 = np.hstack((val.ix[:,1:19], val.ix[:,20:52], val.ix[:,53:69],#val.ix[:,73:74],\n",
      "                             val.ix[:,69:72]))\n",
      "          data2=data2[:-1]\n",
      "          data_full.append(data2)\n",
      "          response_full.extend(val['fec_col_cat'][1:])\n",
      "          #print data_full,response_full\n",
      "          #print \"---------location= \",ct,\" done\"\n",
      "          ct += 1\n",
      "    return np.vstack(data_full), response_full\n",
      "\n",
      "def scale_data(train_data, test_data):\n",
      "    scaler= preprocessing.MinMaxScaler().fit(train_data)\n",
      "    #print scaler.mean_, scaler.std_\n",
      "    return scaler.fit_transform(train_data), scaler.transform(test_data)\n",
      "\n",
      "def dates_to_split(years_to_subtract):\n",
      "    dates=['2012-01-01','2012-02-01','2012-03-01','2012-04-01','2012-05-01','2012-06-01',\n",
      "                    '2012-07-01','2012-08-01','2012-09-01','2012-10-01','2012-11-01','2012-12-01']\n",
      "    dates_new=[]\n",
      "    for date in dates:\n",
      "        dates_new.append(str(int(str(date)[0:4])-years_to_subtract)+date[4:])\n",
      "    return dates_new\n",
      "\n",
      "def predict_by_location(model, years_to_avg):\n",
      "    prediction_by_location=defaultdict(list)\n",
      "    for year in xrange(years_to_avg):\n",
      "        for date_to_split in dates_to_split(year):\n",
      "            data, data1 = read_data(datetosplit=date_to_split)\n",
      "            print \"------------------------------------------\"\n",
      "            print \"date to split train and test= \",date_to_split\n",
      "            print \"-----------------------------------------\"\n",
      "            train_data, train_response = prepare_data(data)\n",
      "            test_data, test_response = prepare_data(data1)\n",
      "            print test_data.shape,train_data.shape\n",
      "            long_test= list(test_data[:,test_data.shape[1]-1])\n",
      "            lat_test= list(test_data[:,test_data.shape[1]-2])\n",
      "            locations_test= list(test_data[:,test_data.shape[1]-3])\n",
      "            imp.fit(train_data[:,:-3])\n",
      "            train_data=imp.transform(train_data[:,:-3])\n",
      "            test_data=imp.transform(test_data[:,:-3])\n",
      "\n",
      "            #train_data,test_data= scale_data(train_data.astype(float),test_data.astype(float))\n",
      "\n",
      "            print '------ fitting full model -------------'\n",
      "            model.fit(train_data, train_response)\n",
      "            preds=model.predict_proba(test_data)[:,1]\n",
      "            preds_binary=model.predict(test_data)\n",
      "            #print model.accuracy_score(test_scaled, test_response)\n",
      "            #auc_score.append(metrics.roc_auc_score(test_response, preds))\n",
      "            #print '------------------------------'\n",
      "            #print 'entries in test data= ',len(preds) #, preds\n",
      "\n",
      "            #print 'ratio of no of 1s PREDICTED to total test size= ', 1.0*len(list(preds[preds>=0.5]))/len(p\n",
      "            ct,ct1=0,0\n",
      "            for i in xrange(len(test_response)):\n",
      "                  prediction_by_location[(locations_test[i],lat_test[i], long_test[i])].append((test_response[i], preds[i],preds_binary[i]))\n",
      "                  if test_response[i]==1 and preds[i]>=0.5:\n",
      "                      ct += 1\n",
      "                      ct1 += 1\n",
      "                  if test_response[i]==0 and preds[i]<0.5:\n",
      "                      ct+=1\n",
      "                  #print 'ratio of no of ACTUAL 1s to total test size= ',float(ct1)/len(test_response)\n",
      "                  #print 'how many predictions match with test data= ',float(ct)/len(test_response)\n",
      "    return prediction_by_location\n",
      "\n",
      "model=RandomForestClassifier(n_estimators=50, criterion=\"entropy\")\n",
      "#model=svm.SVC(probability=True)\n",
      "imp=preprocessing.Imputer(missing_values=np.nan, strategy=\"median\",axis=0)\n",
      "years_to_avg=4\n",
      "prediction_by_location=predict_by_location(model,years_to_avg)\n"
     ],
     "language": "python",
     "metadata": {},
     "outputs": [
      {
       "output_type": "stream",
       "stream": "stdout",
       "text": [
        "------------------------------------------\n",
        "date to split train and test=  2012-01-01\n",
        "-----------------------------------------\n",
        "(21, 69)"
       ]
      },
      {
       "output_type": "stream",
       "stream": "stdout",
       "text": [
        " (4637, 69)\n",
        "------ fitting full model -------------"
       ]
      },
      {
       "output_type": "stream",
       "stream": "stdout",
       "text": [
        "\n",
        "------------------------------------------"
       ]
      },
      {
       "output_type": "stream",
       "stream": "stdout",
       "text": [
        "\n",
        "date to split train and test=  2012-02-01\n",
        "-----------------------------------------\n",
        "(36, 69)"
       ]
      },
      {
       "output_type": "stream",
       "stream": "stderr",
       "text": [
        "/Users/thoughtworker/anaconda/lib/python2.7/site-packages/sklearn/preprocessing/imputation.py:307: DeprecationWarning: using a boolean instead of an integer will result in an error in the future\n",
        "  median[np.ma.getmask(median_masked)] = np.nan\n",
        "/Users/thoughtworker/anaconda/lib/python2.7/site-packages/sklearn/preprocessing/imputation.py:307: DeprecationWarning: using a boolean instead of an integer will result in an error in the future\n",
        "  median[np.ma.getmask(median_masked)] = np.nan\n"
       ]
      },
      {
       "output_type": "stream",
       "stream": "stdout",
       "text": [
        " (4694, 69)\n",
        "------ fitting full model -------------"
       ]
      },
      {
       "output_type": "stream",
       "stream": "stdout",
       "text": [
        "\n",
        "------------------------------------------"
       ]
      },
      {
       "output_type": "stream",
       "stream": "stdout",
       "text": [
        "\n",
        "date to split train and test=  2012-03-01\n",
        "-----------------------------------------\n",
        "(38, 69)"
       ]
      },
      {
       "output_type": "stream",
       "stream": "stdout",
       "text": [
        " (4752, 69)\n",
        "------ fitting full model -------------"
       ]
      },
      {
       "output_type": "stream",
       "stream": "stdout",
       "text": [
        "\n",
        "------------------------------------------"
       ]
      },
      {
       "output_type": "stream",
       "stream": "stdout",
       "text": [
        "\n",
        "date to split train and test=  2012-04-01\n",
        "-----------------------------------------\n",
        "(25, 69)"
       ]
      },
      {
       "output_type": "stream",
       "stream": "stderr",
       "text": [
        "/Users/thoughtworker/anaconda/lib/python2.7/site-packages/sklearn/preprocessing/imputation.py:307: DeprecationWarning: using a boolean instead of an integer will result in an error in the future\n",
        "  median[np.ma.getmask(median_masked)] = np.nan\n",
        "/Users/thoughtworker/anaconda/lib/python2.7/site-packages/sklearn/preprocessing/imputation.py:307: DeprecationWarning: using a boolean instead of an integer will result in an error in the future\n",
        "  median[np.ma.getmask(median_masked)] = np.nan\n"
       ]
      },
      {
       "output_type": "stream",
       "stream": "stdout",
       "text": [
        " (4812, 69)\n",
        "------ fitting full model -------------"
       ]
      },
      {
       "output_type": "stream",
       "stream": "stdout",
       "text": [
        "\n",
        "------------------------------------------"
       ]
      },
      {
       "output_type": "stream",
       "stream": "stdout",
       "text": [
        "\n",
        "date to split train and test=  2012-05-01\n",
        "-----------------------------------------\n",
        "(38, 69)"
       ]
      },
      {
       "output_type": "stream",
       "stream": "stdout",
       "text": [
        " (4874, 69)\n",
        "------ fitting full model -------------"
       ]
      },
      {
       "output_type": "stream",
       "stream": "stdout",
       "text": [
        "\n",
        "------------------------------------------"
       ]
      },
      {
       "output_type": "stream",
       "stream": "stdout",
       "text": [
        "\n",
        "date to split train and test=  2012-06-01\n",
        "-----------------------------------------\n",
        "(23, 69)"
       ]
      },
      {
       "output_type": "stream",
       "stream": "stderr",
       "text": [
        "/Users/thoughtworker/anaconda/lib/python2.7/site-packages/sklearn/preprocessing/imputation.py:307: DeprecationWarning: using a boolean instead of an integer will result in an error in the future\n",
        "  median[np.ma.getmask(median_masked)] = np.nan\n",
        "/Users/thoughtworker/anaconda/lib/python2.7/site-packages/sklearn/preprocessing/imputation.py:307: DeprecationWarning: using a boolean instead of an integer will result in an error in the future\n",
        "  median[np.ma.getmask(median_masked)] = np.nan\n"
       ]
      },
      {
       "output_type": "stream",
       "stream": "stdout",
       "text": [
        " (4933, 69)\n",
        "------ fitting full model -------------"
       ]
      },
      {
       "output_type": "stream",
       "stream": "stdout",
       "text": [
        "\n",
        "------------------------------------------"
       ]
      },
      {
       "output_type": "stream",
       "stream": "stdout",
       "text": [
        "\n",
        "date to split train and test=  2012-07-01\n",
        "-----------------------------------------\n",
        "(14, 69)"
       ]
      },
      {
       "output_type": "stream",
       "stream": "stdout",
       "text": [
        " (4992, 69)\n",
        "------ fitting full model -------------"
       ]
      },
      {
       "output_type": "stream",
       "stream": "stdout",
       "text": [
        "\n",
        "------------------------------------------"
       ]
      },
      {
       "output_type": "stream",
       "stream": "stdout",
       "text": [
        "\n",
        "date to split train and test=  2012-08-01\n",
        "-----------------------------------------\n",
        "(17, 69)"
       ]
      },
      {
       "output_type": "stream",
       "stream": "stderr",
       "text": [
        "/Users/thoughtworker/anaconda/lib/python2.7/site-packages/sklearn/preprocessing/imputation.py:307: DeprecationWarning: using a boolean instead of an integer will result in an error in the future\n",
        "  median[np.ma.getmask(median_masked)] = np.nan\n",
        "/Users/thoughtworker/anaconda/lib/python2.7/site-packages/sklearn/preprocessing/imputation.py:307: DeprecationWarning: using a boolean instead of an integer will result in an error in the future\n",
        "  median[np.ma.getmask(median_masked)] = np.nan\n"
       ]
      },
      {
       "output_type": "stream",
       "stream": "stdout",
       "text": [
        " (5052, 69)\n",
        "------ fitting full model -------------"
       ]
      },
      {
       "output_type": "stream",
       "stream": "stdout",
       "text": [
        "\n",
        "------------------------------------------"
       ]
      },
      {
       "output_type": "stream",
       "stream": "stdout",
       "text": [
        "\n",
        "date to split train and test=  2012-09-01\n",
        "-----------------------------------------\n",
        "(18, 69)"
       ]
      },
      {
       "output_type": "stream",
       "stream": "stdout",
       "text": [
        " (5080, 69)\n",
        "------ fitting full model -------------"
       ]
      },
      {
       "output_type": "stream",
       "stream": "stdout",
       "text": [
        "\n",
        "------------------------------------------"
       ]
      },
      {
       "output_type": "stream",
       "stream": "stdout",
       "text": [
        "\n",
        "date to split train and test=  2012-10-01\n",
        "-----------------------------------------\n",
        "(15, 69)"
       ]
      },
      {
       "output_type": "stream",
       "stream": "stderr",
       "text": [
        "/Users/thoughtworker/anaconda/lib/python2.7/site-packages/sklearn/preprocessing/imputation.py:307: DeprecationWarning: using a boolean instead of an integer will result in an error in the future\n",
        "  median[np.ma.getmask(median_masked)] = np.nan\n",
        "/Users/thoughtworker/anaconda/lib/python2.7/site-packages/sklearn/preprocessing/imputation.py:307: DeprecationWarning: using a boolean instead of an integer will result in an error in the future\n",
        "  median[np.ma.getmask(median_masked)] = np.nan\n"
       ]
      },
      {
       "output_type": "stream",
       "stream": "stdout",
       "text": [
        " (5110, 69)\n",
        "------ fitting full model -------------"
       ]
      },
      {
       "output_type": "stream",
       "stream": "stdout",
       "text": [
        "\n",
        "------------------------------------------"
       ]
      },
      {
       "output_type": "stream",
       "stream": "stdout",
       "text": [
        "\n",
        "date to split train and test=  2012-11-01\n",
        "-----------------------------------------\n",
        "(19, 69)"
       ]
      },
      {
       "output_type": "stream",
       "stream": "stdout",
       "text": [
        " (5140, 69)\n",
        "------ fitting full model -------------"
       ]
      },
      {
       "output_type": "stream",
       "stream": "stdout",
       "text": [
        "\n",
        "------------------------------------------"
       ]
      },
      {
       "output_type": "stream",
       "stream": "stdout",
       "text": [
        "\n",
        "date to split train and test=  2012-12-01\n",
        "-----------------------------------------\n",
        "(3, 69)"
       ]
      },
      {
       "output_type": "stream",
       "stream": "stderr",
       "text": [
        "/Users/thoughtworker/anaconda/lib/python2.7/site-packages/sklearn/preprocessing/imputation.py:307: DeprecationWarning: using a boolean instead of an integer will result in an error in the future\n",
        "  median[np.ma.getmask(median_masked)] = np.nan\n",
        "/Users/thoughtworker/anaconda/lib/python2.7/site-packages/sklearn/preprocessing/imputation.py:307: DeprecationWarning: using a boolean instead of an integer will result in an error in the future\n",
        "  median[np.ma.getmask(median_masked)] = np.nan\n"
       ]
      },
      {
       "output_type": "stream",
       "stream": "stdout",
       "text": [
        " (5170, 69)\n",
        "------ fitting full model -------------"
       ]
      },
      {
       "output_type": "stream",
       "stream": "stdout",
       "text": [
        "\n",
        "------------------------------------------"
       ]
      },
      {
       "output_type": "stream",
       "stream": "stdout",
       "text": [
        "\n",
        "date to split train and test=  2011-01-01\n",
        "-----------------------------------------\n",
        "(7, 69)"
       ]
      },
      {
       "output_type": "stream",
       "stream": "stdout",
       "text": [
        " (3975, 69)\n",
        "------ fitting full model -------------"
       ]
      },
      {
       "output_type": "stream",
       "stream": "stdout",
       "text": [
        "\n",
        "------------------------------------------"
       ]
      },
      {
       "output_type": "stream",
       "stream": "stdout",
       "text": [
        "\n",
        "date to split train and test=  2011-02-01\n",
        "-----------------------------------------\n",
        "(17, 69)"
       ]
      },
      {
       "output_type": "stream",
       "stream": "stderr",
       "text": [
        "/Users/thoughtworker/anaconda/lib/python2.7/site-packages/sklearn/preprocessing/imputation.py:307: DeprecationWarning: using a boolean instead of an integer will result in an error in the future\n",
        "  median[np.ma.getmask(median_masked)] = np.nan\n",
        "/Users/thoughtworker/anaconda/lib/python2.7/site-packages/sklearn/preprocessing/imputation.py:307: DeprecationWarning: using a boolean instead of an integer will result in an error in the future\n",
        "  median[np.ma.getmask(median_masked)] = np.nan\n"
       ]
      },
      {
       "output_type": "stream",
       "stream": "stdout",
       "text": [
        " (4022, 69)\n",
        "------ fitting full model -------------"
       ]
      },
      {
       "output_type": "stream",
       "stream": "stdout",
       "text": [
        "\n",
        "------------------------------------------"
       ]
      },
      {
       "output_type": "stream",
       "stream": "stdout",
       "text": [
        "\n",
        "date to split train and test=  2011-03-01\n",
        "-----------------------------------------\n",
        "(37, 69)"
       ]
      },
      {
       "output_type": "stream",
       "stream": "stdout",
       "text": [
        " (4061, 69)\n",
        "------ fitting full model -------------"
       ]
      },
      {
       "output_type": "stream",
       "stream": "stdout",
       "text": [
        "\n",
        "------------------------------------------"
       ]
      },
      {
       "output_type": "stream",
       "stream": "stdout",
       "text": [
        "\n",
        "date to split train and test=  2011-04-01\n",
        "-----------------------------------------\n",
        "(40, 69)"
       ]
      },
      {
       "output_type": "stream",
       "stream": "stderr",
       "text": [
        "/Users/thoughtworker/anaconda/lib/python2.7/site-packages/sklearn/preprocessing/imputation.py:307: DeprecationWarning: using a boolean instead of an integer will result in an error in the future\n",
        "  median[np.ma.getmask(median_masked)] = np.nan\n",
        "/Users/thoughtworker/anaconda/lib/python2.7/site-packages/sklearn/preprocessing/imputation.py:307: DeprecationWarning: using a boolean instead of an integer will result in an error in the future\n",
        "  median[np.ma.getmask(median_masked)] = np.nan\n"
       ]
      },
      {
       "output_type": "stream",
       "stream": "stdout",
       "text": [
        " (4110, 69)\n",
        "------ fitting full model -------------"
       ]
      },
      {
       "output_type": "stream",
       "stream": "stdout",
       "text": [
        "\n",
        "------------------------------------------"
       ]
      },
      {
       "output_type": "stream",
       "stream": "stdout",
       "text": [
        "\n",
        "date to split train and test=  2011-05-01\n",
        "-----------------------------------------\n",
        "(24, 69)"
       ]
      },
      {
       "output_type": "stream",
       "stream": "stdout",
       "text": [
        " (4172, 69)\n",
        "------ fitting full model -------------"
       ]
      },
      {
       "output_type": "stream",
       "stream": "stdout",
       "text": [
        "\n",
        "------------------------------------------"
       ]
      },
      {
       "output_type": "stream",
       "stream": "stdout",
       "text": [
        "\n",
        "date to split train and test=  2011-06-01\n",
        "-----------------------------------------\n",
        "(38, 69)"
       ]
      },
      {
       "output_type": "stream",
       "stream": "stderr",
       "text": [
        "/Users/thoughtworker/anaconda/lib/python2.7/site-packages/sklearn/preprocessing/imputation.py:307: DeprecationWarning: using a boolean instead of an integer will result in an error in the future\n",
        "  median[np.ma.getmask(median_masked)] = np.nan\n",
        "/Users/thoughtworker/anaconda/lib/python2.7/site-packages/sklearn/preprocessing/imputation.py:307: DeprecationWarning: using a boolean instead of an integer will result in an error in the future\n",
        "  median[np.ma.getmask(median_masked)] = np.nan\n"
       ]
      },
      {
       "output_type": "stream",
       "stream": "stdout",
       "text": [
        " (4234, 69)\n",
        "------ fitting full model -------------"
       ]
      },
      {
       "output_type": "stream",
       "stream": "stdout",
       "text": [
        "\n",
        "------------------------------------------"
       ]
      },
      {
       "output_type": "stream",
       "stream": "stdout",
       "text": [
        "\n",
        "date to split train and test=  2011-07-01\n",
        "-----------------------------------------\n",
        "(38, 69)"
       ]
      },
      {
       "output_type": "stream",
       "stream": "stdout",
       "text": [
        " (4295, 69)\n",
        "------ fitting full model -------------"
       ]
      },
      {
       "output_type": "stream",
       "stream": "stdout",
       "text": [
        "\n",
        "------------------------------------------"
       ]
      },
      {
       "output_type": "stream",
       "stream": "stdout",
       "text": [
        "\n",
        "date to split train and test=  2011-08-01\n",
        "-----------------------------------------\n",
        "(23, 69)"
       ]
      },
      {
       "output_type": "stream",
       "stream": "stderr",
       "text": [
        "/Users/thoughtworker/anaconda/lib/python2.7/site-packages/sklearn/preprocessing/imputation.py:307: DeprecationWarning: using a boolean instead of an integer will result in an error in the future\n",
        "  median[np.ma.getmask(median_masked)] = np.nan\n",
        "/Users/thoughtworker/anaconda/lib/python2.7/site-packages/sklearn/preprocessing/imputation.py:307: DeprecationWarning: using a boolean instead of an integer will result in an error in the future\n",
        "  median[np.ma.getmask(median_masked)] = np.nan\n"
       ]
      },
      {
       "output_type": "stream",
       "stream": "stdout",
       "text": [
        " (4354, 69)\n",
        "------ fitting full model -------------"
       ]
      },
      {
       "output_type": "stream",
       "stream": "stdout",
       "text": [
        "\n",
        "------------------------------------------"
       ]
      },
      {
       "output_type": "stream",
       "stream": "stdout",
       "text": [
        "\n",
        "date to split train and test=  2011-09-01\n",
        "-----------------------------------------\n",
        "(36, 69)"
       ]
      },
      {
       "output_type": "stream",
       "stream": "stdout",
       "text": [
        " (4415, 69)\n",
        "------ fitting full model -------------"
       ]
      },
      {
       "output_type": "stream",
       "stream": "stdout",
       "text": [
        "\n",
        "------------------------------------------"
       ]
      },
      {
       "output_type": "stream",
       "stream": "stdout",
       "text": [
        "\n",
        "date to split train and test=  2011-10-01\n",
        "-----------------------------------------\n",
        "(24, 69)"
       ]
      },
      {
       "output_type": "stream",
       "stream": "stderr",
       "text": [
        "/Users/thoughtworker/anaconda/lib/python2.7/site-packages/sklearn/preprocessing/imputation.py:307: DeprecationWarning: using a boolean instead of an integer will result in an error in the future\n",
        "  median[np.ma.getmask(median_masked)] = np.nan\n",
        "/Users/thoughtworker/anaconda/lib/python2.7/site-packages/sklearn/preprocessing/imputation.py:307: DeprecationWarning: using a boolean instead of an integer will result in an error in the future\n",
        "  median[np.ma.getmask(median_masked)] = np.nan\n"
       ]
      },
      {
       "output_type": "stream",
       "stream": "stdout",
       "text": [
        " (4471, 69)\n",
        "------ fitting full model -------------"
       ]
      },
      {
       "output_type": "stream",
       "stream": "stdout",
       "text": [
        "\n",
        "------------------------------------------"
       ]
      },
      {
       "output_type": "stream",
       "stream": "stdout",
       "text": [
        "\n",
        "date to split train and test=  2011-11-01\n",
        "-----------------------------------------\n",
        "(39, 69)"
       ]
      },
      {
       "output_type": "stream",
       "stream": "stdout",
       "text": [
        " (4531, 69)\n",
        "------ fitting full model -------------"
       ]
      },
      {
       "output_type": "stream",
       "stream": "stdout",
       "text": [
        "\n",
        "------------------------------------------"
       ]
      },
      {
       "output_type": "stream",
       "stream": "stdout",
       "text": [
        "\n",
        "date to split train and test=  2011-12-01\n",
        "-----------------------------------------\n",
        "(20, 69)"
       ]
      },
      {
       "output_type": "stream",
       "stream": "stderr",
       "text": [
        "/Users/thoughtworker/anaconda/lib/python2.7/site-packages/sklearn/preprocessing/imputation.py:307: DeprecationWarning: using a boolean instead of an integer will result in an error in the future\n",
        "  median[np.ma.getmask(median_masked)] = np.nan\n",
        "/Users/thoughtworker/anaconda/lib/python2.7/site-packages/sklearn/preprocessing/imputation.py:307: DeprecationWarning: using a boolean instead of an integer will result in an error in the future\n",
        "  median[np.ma.getmask(median_masked)] = np.nan\n"
       ]
      },
      {
       "output_type": "stream",
       "stream": "stdout",
       "text": [
        " (4591, 69)\n",
        "------ fitting full model -------------"
       ]
      },
      {
       "output_type": "stream",
       "stream": "stdout",
       "text": [
        "\n",
        "------------------------------------------"
       ]
      },
      {
       "output_type": "stream",
       "stream": "stdout",
       "text": [
        "\n",
        "date to split train and test=  2010-01-01\n",
        "-----------------------------------------\n",
        "(23, 69)"
       ]
      },
      {
       "output_type": "stream",
       "stream": "stdout",
       "text": [
        " (3351, 69)\n",
        "------ fitting full model -------------"
       ]
      },
      {
       "output_type": "stream",
       "stream": "stdout",
       "text": [
        "\n",
        "------------------------------------------"
       ]
      },
      {
       "output_type": "stream",
       "stream": "stdout",
       "text": [
        "\n",
        "date to split train and test=  2010-02-01\n",
        "-----------------------------------------\n",
        "(16, 69)"
       ]
      },
      {
       "output_type": "stream",
       "stream": "stderr",
       "text": [
        "/Users/thoughtworker/anaconda/lib/python2.7/site-packages/sklearn/preprocessing/imputation.py:307: DeprecationWarning: using a boolean instead of an integer will result in an error in the future\n",
        "  median[np.ma.getmask(median_masked)] = np.nan\n",
        "/Users/thoughtworker/anaconda/lib/python2.7/site-packages/sklearn/preprocessing/imputation.py:307: DeprecationWarning: using a boolean instead of an integer will result in an error in the future\n",
        "  median[np.ma.getmask(median_masked)] = np.nan\n"
       ]
      },
      {
       "output_type": "stream",
       "stream": "stdout",
       "text": [
        " (3394, 69)\n",
        "------ fitting full model -------------"
       ]
      },
      {
       "output_type": "stream",
       "stream": "stdout",
       "text": [
        "\n",
        "------------------------------------------"
       ]
      },
      {
       "output_type": "stream",
       "stream": "stdout",
       "text": [
        "\n",
        "date to split train and test=  2010-03-01\n",
        "-----------------------------------------\n",
        "(4, 69)"
       ]
      },
      {
       "output_type": "stream",
       "stream": "stdout",
       "text": [
        " (3446, 69)\n",
        "------ fitting full model -------------"
       ]
      },
      {
       "output_type": "stream",
       "stream": "stdout",
       "text": [
        "\n",
        "------------------------------------------"
       ]
      },
      {
       "output_type": "stream",
       "stream": "stdout",
       "text": [
        "\n",
        "date to split train and test=  2010-04-01\n",
        "-----------------------------------------\n",
        "(38, 69)"
       ]
      },
      {
       "output_type": "stream",
       "stream": "stderr",
       "text": [
        "/Users/thoughtworker/anaconda/lib/python2.7/site-packages/sklearn/preprocessing/imputation.py:307: DeprecationWarning: using a boolean instead of an integer will result in an error in the future\n",
        "  median[np.ma.getmask(median_masked)] = np.nan\n",
        "/Users/thoughtworker/anaconda/lib/python2.7/site-packages/sklearn/preprocessing/imputation.py:307: DeprecationWarning: using a boolean instead of an integer will result in an error in the future\n",
        "  median[np.ma.getmask(median_masked)] = np.nan\n"
       ]
      },
      {
       "output_type": "stream",
       "stream": "stdout",
       "text": [
        " (3486, 69)\n",
        "------ fitting full model -------------"
       ]
      },
      {
       "output_type": "stream",
       "stream": "stdout",
       "text": [
        "\n",
        "------------------------------------------"
       ]
      },
      {
       "output_type": "stream",
       "stream": "stdout",
       "text": [
        "\n",
        "date to split train and test=  2010-05-01\n",
        "-----------------------------------------\n",
        "(21, 69)"
       ]
      },
      {
       "output_type": "stream",
       "stream": "stdout",
       "text": [
        " (3545, 69)\n",
        "------ fitting full model -------------"
       ]
      },
      {
       "output_type": "stream",
       "stream": "stdout",
       "text": [
        "\n",
        "------------------------------------------"
       ]
      },
      {
       "output_type": "stream",
       "stream": "stdout",
       "text": [
        "\n",
        "date to split train and test=  2010-06-01\n",
        "-----------------------------------------\n",
        "(34, 69)"
       ]
      },
      {
       "output_type": "stream",
       "stream": "stderr",
       "text": [
        "/Users/thoughtworker/anaconda/lib/python2.7/site-packages/sklearn/preprocessing/imputation.py:307: DeprecationWarning: using a boolean instead of an integer will result in an error in the future\n",
        "  median[np.ma.getmask(median_masked)] = np.nan\n",
        "/Users/thoughtworker/anaconda/lib/python2.7/site-packages/sklearn/preprocessing/imputation.py:307: DeprecationWarning: using a boolean instead of an integer will result in an error in the future\n",
        "  median[np.ma.getmask(median_masked)] = np.nan\n"
       ]
      },
      {
       "output_type": "stream",
       "stream": "stdout",
       "text": [
        " (3605, 69)\n",
        "------ fitting full model -------------"
       ]
      },
      {
       "output_type": "stream",
       "stream": "stdout",
       "text": [
        "\n",
        "------------------------------------------"
       ]
      },
      {
       "output_type": "stream",
       "stream": "stdout",
       "text": [
        "\n",
        "date to split train and test=  2010-07-01\n",
        "-----------------------------------------\n",
        "(34, 69)"
       ]
      },
      {
       "output_type": "stream",
       "stream": "stdout",
       "text": [
        " (3661, 69)\n",
        "------ fitting full model -------------"
       ]
      },
      {
       "output_type": "stream",
       "stream": "stdout",
       "text": [
        "\n",
        "------------------------------------------"
       ]
      },
      {
       "output_type": "stream",
       "stream": "stdout",
       "text": [
        "\n",
        "date to split train and test=  2010-08-01\n",
        "-----------------------------------------\n",
        "(22, 69)"
       ]
      },
      {
       "output_type": "stream",
       "stream": "stderr",
       "text": [
        "/Users/thoughtworker/anaconda/lib/python2.7/site-packages/sklearn/preprocessing/imputation.py:307: DeprecationWarning: using a boolean instead of an integer will result in an error in the future\n",
        "  median[np.ma.getmask(median_masked)] = np.nan\n",
        "/Users/thoughtworker/anaconda/lib/python2.7/site-packages/sklearn/preprocessing/imputation.py:307: DeprecationWarning: using a boolean instead of an integer will result in an error in the future\n",
        "  median[np.ma.getmask(median_masked)] = np.nan\n"
       ]
      },
      {
       "output_type": "stream",
       "stream": "stdout",
       "text": [
        " (3714, 69)\n",
        "------ fitting full model -------------"
       ]
      },
      {
       "output_type": "stream",
       "stream": "stdout",
       "text": [
        "\n",
        "------------------------------------------"
       ]
      },
      {
       "output_type": "stream",
       "stream": "stdout",
       "text": [
        "\n",
        "date to split train and test=  2010-09-01\n",
        "-----------------------------------------\n",
        "(36, 69)"
       ]
      },
      {
       "output_type": "stream",
       "stream": "stdout",
       "text": [
        " (3773, 69)\n",
        "------ fitting full model -------------"
       ]
      },
      {
       "output_type": "stream",
       "stream": "stdout",
       "text": [
        "\n",
        "------------------------------------------"
       ]
      },
      {
       "output_type": "stream",
       "stream": "stdout",
       "text": [
        "\n",
        "date to split train and test=  2010-10-01\n",
        "-----------------------------------------\n",
        "(35, 69)"
       ]
      },
      {
       "output_type": "stream",
       "stream": "stderr",
       "text": [
        "/Users/thoughtworker/anaconda/lib/python2.7/site-packages/sklearn/preprocessing/imputation.py:307: DeprecationWarning: using a boolean instead of an integer will result in an error in the future\n",
        "  median[np.ma.getmask(median_masked)] = np.nan\n",
        "/Users/thoughtworker/anaconda/lib/python2.7/site-packages/sklearn/preprocessing/imputation.py:307: DeprecationWarning: using a boolean instead of an integer will result in an error in the future\n",
        "  median[np.ma.getmask(median_masked)] = np.nan\n"
       ]
      },
      {
       "output_type": "stream",
       "stream": "stdout",
       "text": [
        " (3830, 69)\n",
        "------ fitting full model -------------"
       ]
      },
      {
       "output_type": "stream",
       "stream": "stdout",
       "text": [
        "\n",
        "------------------------------------------"
       ]
      },
      {
       "output_type": "stream",
       "stream": "stdout",
       "text": [
        "\n",
        "date to split train and test=  2010-11-01\n",
        "-----------------------------------------\n",
        "(17, 69)"
       ]
      },
      {
       "output_type": "stream",
       "stream": "stdout",
       "text": [
        " (3885, 69)\n",
        "------ fitting full model -------------"
       ]
      },
      {
       "output_type": "stream",
       "stream": "stdout",
       "text": [
        "\n",
        "------------------------------------------"
       ]
      },
      {
       "output_type": "stream",
       "stream": "stdout",
       "text": [
        "\n",
        "date to split train and test=  2010-12-01\n",
        "-----------------------------------------\n",
        "(25, 69)"
       ]
      },
      {
       "output_type": "stream",
       "stream": "stderr",
       "text": [
        "/Users/thoughtworker/anaconda/lib/python2.7/site-packages/sklearn/preprocessing/imputation.py:307: DeprecationWarning: using a boolean instead of an integer will result in an error in the future\n",
        "  median[np.ma.getmask(median_masked)] = np.nan\n",
        "/Users/thoughtworker/anaconda/lib/python2.7/site-packages/sklearn/preprocessing/imputation.py:307: DeprecationWarning: using a boolean instead of an integer will result in an error in the future\n",
        "  median[np.ma.getmask(median_masked)] = np.nan\n"
       ]
      },
      {
       "output_type": "stream",
       "stream": "stdout",
       "text": [
        " (3941, 69)\n",
        "------ fitting full model -------------"
       ]
      },
      {
       "output_type": "stream",
       "stream": "stdout",
       "text": [
        "\n",
        "------------------------------------------"
       ]
      },
      {
       "output_type": "stream",
       "stream": "stdout",
       "text": [
        "\n",
        "date to split train and test=  2009-01-01\n",
        "-----------------------------------------\n",
        "(23, 69)"
       ]
      },
      {
       "output_type": "stream",
       "stream": "stdout",
       "text": [
        " (2691, 69)\n",
        "------ fitting full model -------------"
       ]
      },
      {
       "output_type": "stream",
       "stream": "stdout",
       "text": [
        "\n",
        "------------------------------------------"
       ]
      },
      {
       "output_type": "stream",
       "stream": "stdout",
       "text": [
        "\n",
        "date to split train and test=  2009-02-01\n",
        "-----------------------------------------\n",
        "(25, 69)"
       ]
      },
      {
       "output_type": "stream",
       "stream": "stderr",
       "text": [
        "/Users/thoughtworker/anaconda/lib/python2.7/site-packages/sklearn/preprocessing/imputation.py:307: DeprecationWarning: using a boolean instead of an integer will result in an error in the future\n",
        "  median[np.ma.getmask(median_masked)] = np.nan\n",
        "/Users/thoughtworker/anaconda/lib/python2.7/site-packages/sklearn/preprocessing/imputation.py:307: DeprecationWarning: using a boolean instead of an integer will result in an error in the future\n",
        "  median[np.ma.getmask(median_masked)] = np.nan\n"
       ]
      },
      {
       "output_type": "stream",
       "stream": "stdout",
       "text": [
        " (2729, 69)\n",
        "------ fitting full model -------------"
       ]
      },
      {
       "output_type": "stream",
       "stream": "stdout",
       "text": [
        "\n",
        "------------------------------------------"
       ]
      },
      {
       "output_type": "stream",
       "stream": "stdout",
       "text": [
        "\n",
        "date to split train and test=  2009-03-01\n",
        "-----------------------------------------\n",
        "(22, 69)"
       ]
      },
      {
       "output_type": "stream",
       "stream": "stdout",
       "text": [
        " (2772, 69)\n",
        "------ fitting full model -------------"
       ]
      },
      {
       "output_type": "stream",
       "stream": "stdout",
       "text": [
        "\n",
        "------------------------------------------"
       ]
      },
      {
       "output_type": "stream",
       "stream": "stdout",
       "text": [
        "\n",
        "date to split train and test=  2009-04-01\n",
        "-----------------------------------------\n",
        "(40, 69)"
       ]
      },
      {
       "output_type": "stream",
       "stream": "stderr",
       "text": [
        "/Users/thoughtworker/anaconda/lib/python2.7/site-packages/sklearn/preprocessing/imputation.py:307: DeprecationWarning: using a boolean instead of an integer will result in an error in the future\n",
        "  median[np.ma.getmask(median_masked)] = np.nan\n",
        "/Users/thoughtworker/anaconda/lib/python2.7/site-packages/sklearn/preprocessing/imputation.py:307: DeprecationWarning: using a boolean instead of an integer will result in an error in the future\n",
        "  median[np.ma.getmask(median_masked)] = np.nan\n"
       ]
      },
      {
       "output_type": "stream",
       "stream": "stdout",
       "text": [
        " (2832, 69)\n",
        "------ fitting full model -------------"
       ]
      },
      {
       "output_type": "stream",
       "stream": "stdout",
       "text": [
        "\n",
        "------------------------------------------"
       ]
      },
      {
       "output_type": "stream",
       "stream": "stdout",
       "text": [
        "\n",
        "date to split train and test=  2009-05-01\n",
        "-----------------------------------------\n",
        "(40, 69)"
       ]
      },
      {
       "output_type": "stream",
       "stream": "stdout",
       "text": [
        " (2891, 69)\n",
        "------ fitting full model -------------"
       ]
      },
      {
       "output_type": "stream",
       "stream": "stdout",
       "text": [
        "\n",
        "------------------------------------------"
       ]
      },
      {
       "output_type": "stream",
       "stream": "stdout",
       "text": [
        "\n",
        "date to split train and test=  2009-06-01\n",
        "-----------------------------------------\n",
        "(24, 69)"
       ]
      },
      {
       "output_type": "stream",
       "stream": "stderr",
       "text": [
        "/Users/thoughtworker/anaconda/lib/python2.7/site-packages/sklearn/preprocessing/imputation.py:307: DeprecationWarning: using a boolean instead of an integer will result in an error in the future\n",
        "  median[np.ma.getmask(median_masked)] = np.nan\n",
        "/Users/thoughtworker/anaconda/lib/python2.7/site-packages/sklearn/preprocessing/imputation.py:307: DeprecationWarning: using a boolean instead of an integer will result in an error in the future\n",
        "  median[np.ma.getmask(median_masked)] = np.nan\n"
       ]
      },
      {
       "output_type": "stream",
       "stream": "stdout",
       "text": [
        " (2952, 69)\n",
        "------ fitting full model -------------"
       ]
      },
      {
       "output_type": "stream",
       "stream": "stdout",
       "text": [
        "\n",
        "------------------------------------------"
       ]
      },
      {
       "output_type": "stream",
       "stream": "stdout",
       "text": [
        "\n",
        "date to split train and test=  2009-07-01\n",
        "-----------------------------------------\n",
        "(37, 69)"
       ]
      },
      {
       "output_type": "stream",
       "stream": "stdout",
       "text": [
        " (3014, 69)\n",
        "------ fitting full model -------------"
       ]
      },
      {
       "output_type": "stream",
       "stream": "stdout",
       "text": [
        "\n",
        "------------------------------------------"
       ]
      },
      {
       "output_type": "stream",
       "stream": "stdout",
       "text": [
        "\n",
        "date to split train and test=  2009-08-01\n",
        "-----------------------------------------\n",
        "(23, 69)"
       ]
      },
      {
       "output_type": "stream",
       "stream": "stderr",
       "text": [
        "/Users/thoughtworker/anaconda/lib/python2.7/site-packages/sklearn/preprocessing/imputation.py:307: DeprecationWarning: using a boolean instead of an integer will result in an error in the future\n",
        "  median[np.ma.getmask(median_masked)] = np.nan\n",
        "/Users/thoughtworker/anaconda/lib/python2.7/site-packages/sklearn/preprocessing/imputation.py:307: DeprecationWarning: using a boolean instead of an integer will result in an error in the future\n",
        "  median[np.ma.getmask(median_masked)] = np.nan\n"
       ]
      },
      {
       "output_type": "stream",
       "stream": "stdout",
       "text": [
        " (3072, 69)\n",
        "------ fitting full model -------------"
       ]
      },
      {
       "output_type": "stream",
       "stream": "stdout",
       "text": [
        "\n",
        "------------------------------------------"
       ]
      },
      {
       "output_type": "stream",
       "stream": "stdout",
       "text": [
        "\n",
        "date to split train and test=  2009-09-01\n",
        "-----------------------------------------\n",
        "(37, 69)"
       ]
      },
      {
       "output_type": "stream",
       "stream": "stdout",
       "text": [
        " (3132, 69)\n",
        "------ fitting full model -------------"
       ]
      },
      {
       "output_type": "stream",
       "stream": "stdout",
       "text": [
        "\n",
        "------------------------------------------"
       ]
      },
      {
       "output_type": "stream",
       "stream": "stdout",
       "text": [
        "\n",
        "date to split train and test=  2009-10-01\n",
        "-----------------------------------------\n",
        "(38, 69)"
       ]
      },
      {
       "output_type": "stream",
       "stream": "stderr",
       "text": [
        "/Users/thoughtworker/anaconda/lib/python2.7/site-packages/sklearn/preprocessing/imputation.py:307: DeprecationWarning: using a boolean instead of an integer will result in an error in the future\n",
        "  median[np.ma.getmask(median_masked)] = np.nan\n",
        "/Users/thoughtworker/anaconda/lib/python2.7/site-packages/sklearn/preprocessing/imputation.py:307: DeprecationWarning: using a boolean instead of an integer will result in an error in the future\n",
        "  median[np.ma.getmask(median_masked)] = np.nan\n"
       ]
      },
      {
       "output_type": "stream",
       "stream": "stdout",
       "text": [
        " (3190, 69)\n",
        "------ fitting full model -------------"
       ]
      },
      {
       "output_type": "stream",
       "stream": "stdout",
       "text": [
        "\n",
        "------------------------------------------"
       ]
      },
      {
       "output_type": "stream",
       "stream": "stdout",
       "text": [
        "\n",
        "date to split train and test=  2009-11-01\n",
        "-----------------------------------------\n",
        "(23, 69)"
       ]
      },
      {
       "output_type": "stream",
       "stream": "stdout",
       "text": [
        " (3248, 69)\n",
        "------ fitting full model -------------"
       ]
      },
      {
       "output_type": "stream",
       "stream": "stdout",
       "text": [
        "\n",
        "------------------------------------------"
       ]
      },
      {
       "output_type": "stream",
       "stream": "stdout",
       "text": [
        "\n",
        "date to split train and test=  2009-12-01\n",
        "-----------------------------------------\n",
        "(22, 69)"
       ]
      },
      {
       "output_type": "stream",
       "stream": "stderr",
       "text": [
        "/Users/thoughtworker/anaconda/lib/python2.7/site-packages/sklearn/preprocessing/imputation.py:307: DeprecationWarning: using a boolean instead of an integer will result in an error in the future\n",
        "  median[np.ma.getmask(median_masked)] = np.nan\n",
        "/Users/thoughtworker/anaconda/lib/python2.7/site-packages/sklearn/preprocessing/imputation.py:307: DeprecationWarning: using a boolean instead of an integer will result in an error in the future\n",
        "  median[np.ma.getmask(median_masked)] = np.nan\n"
       ]
      },
      {
       "output_type": "stream",
       "stream": "stdout",
       "text": [
        " (3309, 69)\n",
        "------ fitting full model -------------"
       ]
      },
      {
       "output_type": "stream",
       "stream": "stdout",
       "text": [
        "\n"
       ]
      }
     ],
     "prompt_number": 19
    },
    {
     "cell_type": "code",
     "collapsed": false,
     "input": [
      "def est_accuracy_by_location(prediction_by_location):\n",
      "    accuracy_by_location=defaultdict(float)\n",
      "    test_response1, train_response1=[],[]\n",
      "    for loc, preds in prediction_by_location.items():\n",
      "        count,count_test_1=0,0\n",
      "        for pred in preds:\n",
      "           if pred[0]==pred[0]:\n",
      "              test_response1.append(pred[0])\n",
      "              train_response1.append(pred[1])\n",
      "           if pred[0]==pred[2]:\n",
      "                count+=1\n",
      "           if pred[0]==1:\n",
      "               count_test_1+=1\n",
      "        if len(preds)>5:\n",
      "             accuracy_by_location[loc]=(1.0*count/len(preds),len(preds),\\\n",
      "                metrics.roc_auc_score(test_response1,train_response1),1.0*count_test_1/len(preds))\n",
      "    return accuracy_by_location\n",
      "\n",
      "\n",
      "\n",
      "#if __name__ == \"__main__\":\n",
      "\n",
      "accuracy_by_location=est_accuracy_by_location(prediction_by_location)\n",
      "print \"-------------------------------\"\n",
      "accurate_locations= list(OrderedDict(sorted(accuracy_by_location.items(),key=lambda x: x[1][0])))[::-1]\n",
      "ct=0\n",
      "for loc in accurate_locations:\n",
      "    if accuracy_by_location[loc][0]>0.7 and accuracy_by_location[loc][2]>0.75:\n",
      "        print ct, loc, accuracy_by_location[loc] #,prediction_by_location[loc]\n",
      "        print \"---------------------------------\"\n",
      "        ct+=1    \n",
      "    \n"
     ],
     "language": "python",
     "metadata": {},
     "outputs": [
      {
       "output_type": "stream",
       "stream": "stdout",
       "text": [
        "-------------------------------\n",
        "0 ('north_shore_channel_@_touhy_ave.', 42.0115, 87.71) (0.9615384615384616, 26, 0.75031227271289869, 0.038461538461538464)\n",
        "---------------------------------\n",
        "1 ('north_branch_chicago_river_@_grand_ave.', 41.891333333333336, 87.64066666666666) (0.7692307692307693, 26, 0.7525827978916817, 0.15384615384615385)\n",
        "---------------------------------\n"
       ]
      }
     ],
     "prompt_number": 21
    },
    {
     "cell_type": "code",
     "collapsed": false,
     "input": [],
     "language": "python",
     "metadata": {},
     "outputs": []
    }
   ],
   "metadata": {}
  }
 ]
}